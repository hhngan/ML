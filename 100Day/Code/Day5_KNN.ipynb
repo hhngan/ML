{
  "nbformat": 4,
  "nbformat_minor": 0,
  "metadata": {
    "colab": {
      "name": "Day5_KNN.ipynb",
      "version": "0.3.2",
      "provenance": [],
      "include_colab_link": true
    },
    "kernelspec": {
      "name": "python3",
      "display_name": "Python 3"
    }
  },
  "cells": [
    {
      "cell_type": "markdown",
      "metadata": {
        "id": "view-in-github",
        "colab_type": "text"
      },
      "source": [
        "[View in Colaboratory](https://colab.research.google.com/github/hhngan/ML/blob/master/100Day/Code/Day5_KNN.ipynb)"
      ]
    },
    {
      "metadata": {
        "id": "sr_h3l_kCF3B",
        "colab_type": "code",
        "colab": {
          "base_uri": "https://localhost:8080/",
          "height": 105
        },
        "outputId": "3c3668fb-4fa3-435f-b98c-b49b4b59931c"
      },
      "cell_type": "code",
      "source": [
        "#STEP 1 - DATA PREPROCESSING\n",
        "\n",
        "#Import libraries\n",
        "import numpy as np\n",
        "import pandas as pd\n",
        "import matplotlib.pyplot as plt\n",
        "\n",
        "#Import the dataset\n",
        "FILE_PATH = \"https://github.com/hhngan/ML/raw/master/100Day/Data/Social_Network_Ads.csv\"\n",
        "dataset = pd.read_csv(FILE_PATH)\n",
        "X = dataset.iloc[:, [2,3]].values\n",
        "Y = dataset.iloc[: ,4].values\n",
        "\n",
        "#Splitting the dataset to Training set & test set\n",
        "from sklearn.cross_validation import train_test_split\n",
        "X_train, X_test, Y_train, Y_test = train_test_split(X, Y, test_size=0.25, random_state=0)\n",
        "\n",
        "#Feature Scaling\n",
        "from sklearn.preprocessing import StandardScaler\n",
        "sc = StandardScaler()\n",
        "X_train = sc.fit_transform(X_train)\n",
        "X_test = sc.transform(X_test)"
      ],
      "execution_count": 1,
      "outputs": [
        {
          "output_type": "stream",
          "text": [
            "/usr/local/lib/python3.6/dist-packages/sklearn/cross_validation.py:41: DeprecationWarning: This module was deprecated in version 0.18 in favor of the model_selection module into which all the refactored classes and functions are moved. Also note that the interface of the new CV iterators are different from that of this module. This module will be removed in 0.20.\n",
            "  \"This module will be removed in 0.20.\", DeprecationWarning)\n",
            "/usr/local/lib/python3.6/dist-packages/sklearn/utils/validation.py:475: DataConversionWarning: Data with input dtype int64 was converted to float64 by StandardScaler.\n",
            "  warnings.warn(msg, DataConversionWarning)\n"
          ],
          "name": "stderr"
        }
      ]
    },
    {
      "metadata": {
        "id": "8UQvvGJHCG9u",
        "colab_type": "code",
        "colab": {
          "base_uri": "https://localhost:8080/",
          "height": 68
        },
        "outputId": "e4aab8e9-c8c7-486a-a469-9a6bf50b2bec"
      },
      "cell_type": "code",
      "source": [
        "#STEP 2 - K-NEAREST NEIGHBORS \n",
        "\n",
        "from sklearn.neighbors import KNeighborsClassifier\n",
        "classifier = KNeighborsClassifier()\n",
        "classifier.fit(X_train, Y_train)"
      ],
      "execution_count": 3,
      "outputs": [
        {
          "output_type": "execute_result",
          "data": {
            "text/plain": [
              "KNeighborsClassifier(algorithm='auto', leaf_size=30, metric='minkowski',\n",
              "           metric_params=None, n_jobs=1, n_neighbors=5, p=2,\n",
              "           weights='uniform')"
            ]
          },
          "metadata": {
            "tags": []
          },
          "execution_count": 3
        }
      ]
    },
    {
      "metadata": {
        "id": "gA-lx0nKCKSN",
        "colab_type": "code",
        "colab": {}
      },
      "cell_type": "code",
      "source": [
        "#STEP 3 - PREDICTION\n",
        "\n",
        "y_pred = classifier.predict(X_test)"
      ],
      "execution_count": 0,
      "outputs": []
    },
    {
      "metadata": {
        "id": "FBQ-l4GTCMTE",
        "colab_type": "code",
        "colab": {
          "base_uri": "https://localhost:8080/",
          "height": 51
        },
        "outputId": "16dfcd9e-f185-4065-a5ed-8c1c9c303e6c"
      },
      "cell_type": "code",
      "source": [
        "#STEP 4 - EVALUATING THE PREDICTION\n",
        "\n",
        "from sklearn.metrics import confusion_matrix\n",
        "cm = confusion_matrix(Y_test, y_pred)\n",
        "\n",
        "#Test\n",
        "print(cm)"
      ],
      "execution_count": 5,
      "outputs": [
        {
          "output_type": "stream",
          "text": [
            "[[64  4]\n",
            " [ 3 29]]\n"
          ],
          "name": "stdout"
        }
      ]
    }
  ]
}