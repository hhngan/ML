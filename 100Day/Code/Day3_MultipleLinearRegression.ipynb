{
  "nbformat": 4,
  "nbformat_minor": 0,
  "metadata": {
    "colab": {
      "name": "Day3_MultipleLinearRegression.ipynb",
      "version": "0.3.2",
      "provenance": [],
      "include_colab_link": true
    },
    "kernelspec": {
      "name": "python3",
      "display_name": "Python 3"
    }
  },
  "cells": [
    {
      "cell_type": "markdown",
      "metadata": {
        "id": "view-in-github",
        "colab_type": "text"
      },
      "source": [
        "[View in Colaboratory](https://colab.research.google.com/github/hhngan/ML/blob/master/100Day/Code/Day3_MultipleLinearRegression.ipynb)"
      ]
    },
    {
      "metadata": {
        "id": "tjVNYnr8bgRt",
        "colab_type": "code",
        "colab": {}
      },
      "cell_type": "code",
      "source": [
        "#STEP 1 - DATA PREPROCESSING\n",
        "\n",
        "#1.1 - Import libraries\n",
        "import pandas as pd\n",
        "import numpy as np\n",
        "\n",
        "#1.2 - Importing the dataset\n",
        "FILE_PATH = \"https://github.com/hhngan/ML/raw/master/100Day/Data/50_Startups.csv\"\n",
        "\n",
        "dataset = pd.read_csv(FILE_PATH)\n",
        "X = dataset.iloc[:, :-1].values\n",
        "Y = dataset.iloc[:, 4].values\n",
        "\n",
        "#1.3 - Encoding Categorical data\n",
        "from sklearn.preprocessing import LabelEncoder, OneHotEncoder\n",
        "labelEncoder = LabelEncoder()\n",
        "X[:, 3] = labelEncoder.fit_transform(X[:, 3])\n",
        "oneHotEncoder = OneHotEncoder(categorical_features=[3])\n",
        "X = oneHotEncoder.fit_transform(X).toarray()\n",
        "\n",
        "#1.4 - Avoid dummy variable trap\n",
        "X = X[:, 1:]\n",
        "\n",
        "#1.5 - Splitting the dataset to the Training set and Test set\n",
        "from sklearn.cross_validation import train_test_split\n",
        "X_train, X_test, Y_train, Y_test = train_test_split(X, Y, test_size=0.2, random_state=0)"
      ],
      "execution_count": 0,
      "outputs": []
    },
    {
      "metadata": {
        "id": "suQcfN-Ig4PV",
        "colab_type": "code",
        "colab": {
          "base_uri": "https://localhost:8080/",
          "height": 34
        },
        "outputId": "82aac124-2b66-4103-a785-f3e33cc0cd15"
      },
      "cell_type": "code",
      "source": [
        "#STEP 2 - FITTING OUR MODEL TO THE TRAINING SET\n",
        "\n",
        "from sklearn.linear_model import LinearRegression\n",
        "regressor = LinearRegression()\n",
        "regressor.fit(X_train, Y_train)"
      ],
      "execution_count": 7,
      "outputs": [
        {
          "output_type": "execute_result",
          "data": {
            "text/plain": [
              "LinearRegression(copy_X=True, fit_intercept=True, n_jobs=1, normalize=False)"
            ]
          },
          "metadata": {
            "tags": []
          },
          "execution_count": 7
        }
      ]
    },
    {
      "metadata": {
        "id": "l7NdEfGuhR-0",
        "colab_type": "code",
        "colab": {}
      },
      "cell_type": "code",
      "source": [
        "#STEP 3 - PREDICTING THE TEST SET RESULT\n",
        "\n",
        "y_pred = regressor.predict(X_test)"
      ],
      "execution_count": 0,
      "outputs": []
    },
    {
      "metadata": {
        "id": "83oP0ggriRBf",
        "colab_type": "code",
        "colab": {
          "base_uri": "https://localhost:8080/",
          "height": 68
        },
        "outputId": "133bf3c8-551d-4c47-d58c-5f48d67c8e74"
      },
      "cell_type": "code",
      "source": [
        "#Testing the result\n",
        "print(y_pred)"
      ],
      "execution_count": 9,
      "outputs": [
        {
          "output_type": "stream",
          "text": [
            "[103015.20159796 132582.27760816 132447.73845175  71976.09851259\n",
            " 178537.48221054 116161.24230163  67851.69209676  98791.73374688\n",
            " 113969.43533012 167921.0656955 ]\n"
          ],
          "name": "stdout"
        }
      ]
    }
  ]
}