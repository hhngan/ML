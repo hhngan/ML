{
  "nbformat": 4,
  "nbformat_minor": 0,
  "metadata": {
    "colab": {
      "name": "Day2_SimpleLinearRegression.ipynb",
      "version": "0.3.2",
      "provenance": [],
      "include_colab_link": true
    },
    "kernelspec": {
      "name": "python3",
      "display_name": "Python 3"
    }
  },
  "cells": [
    {
      "cell_type": "markdown",
      "metadata": {
        "id": "view-in-github",
        "colab_type": "text"
      },
      "source": [
        "[View in Colaboratory](https://colab.research.google.com/github/hhngan/ML/blob/master/100Day/Code/Day2_SimpleLinearRegression.ipynb)"
      ]
    },
    {
      "metadata": {
        "id": "AAnPyZUnyFUz",
        "colab_type": "text"
      },
      "cell_type": "markdown",
      "source": [
        "# Simple Linear Regression"
      ]
    },
    {
      "metadata": {
        "id": "EuN9NOF8xqfK",
        "colab_type": "code",
        "colab": {
          "base_uri": "https://localhost:8080/",
          "height": 71
        },
        "outputId": "ce38eb94-9f8a-4d1c-b1f9-310ccadda242"
      },
      "cell_type": "code",
      "source": [
        "#STEP 1 - PREPROCESS THE DATA\n",
        "\n",
        "#Import libraries\n",
        "import pandas as pd\n",
        "import numpy as np\n",
        "import matplotlib.pyplot as plt\n",
        "\n",
        "#Get dataset\n",
        "FILE_PATH = \"https://raw.githubusercontent.com/hhngan/ML/master/100Day/Data/studentscores.csv\"\n",
        "\n",
        "dataset = pd.read_csv(FILE_PATH)\n",
        "X = dataset.iloc[ : ,   : 1 ].values\n",
        "Y = dataset.iloc[ : , 1 ].values\n",
        "\n",
        "from sklearn.cross_validation import train_test_split\n",
        "X_train, X_test, Y_train, Y_test = train_test_split( X, Y, test_size = 1/4, random_state = 0) "
      ],
      "execution_count": 1,
      "outputs": [
        {
          "output_type": "stream",
          "text": [
            "/usr/local/lib/python3.6/dist-packages/sklearn/cross_validation.py:41: DeprecationWarning: This module was deprecated in version 0.18 in favor of the model_selection module into which all the refactored classes and functions are moved. Also note that the interface of the new CV iterators are different from that of this module. This module will be removed in 0.20.\n",
            "  \"This module will be removed in 0.20.\", DeprecationWarning)\n"
          ],
          "name": "stderr"
        }
      ]
    },
    {
      "metadata": {
        "id": "Mjr-_5RWz5ML",
        "colab_type": "code",
        "colab": {}
      },
      "cell_type": "code",
      "source": [
        "#STEP 2 - FITTING SIMPLE LINEAR REGRESSION MODEL TO THE TRAINING SET\n",
        "\n",
        "from sklearn.linear_model import LinearRegression\n",
        "regressor = LinearRegression()\n",
        "regressor = regressor.fit(X_train, Y_train)"
      ],
      "execution_count": 0,
      "outputs": []
    },
    {
      "metadata": {
        "id": "2XHhU-Bx0qCc",
        "colab_type": "code",
        "colab": {}
      },
      "cell_type": "code",
      "source": [
        "#STEP 3 - PREDICTING THE RESULT\n",
        "\n",
        "Y_pred = regressor.predict(X_test)"
      ],
      "execution_count": 0,
      "outputs": []
    },
    {
      "metadata": {
        "id": "wRoxcGcr1Gkj",
        "colab_type": "code",
        "colab": {
          "base_uri": "https://localhost:8080/",
          "height": 364
        },
        "outputId": "7979c1aa-8534-435f-eadb-12408bfcf88c"
      },
      "cell_type": "code",
      "source": [
        "#STEP 4 - VISUALIZATION\n",
        "\n",
        "plt.scatter(X_test, Y_test, color='red')\n",
        "plt.plot(X_test, regressor.predict(X_test), color='blue')"
      ],
      "execution_count": 4,
      "outputs": [
        {
          "output_type": "execute_result",
          "data": {
            "text/plain": [
              "[<matplotlib.lines.Line2D at 0x7f2b6df0cef0>]"
            ]
          },
          "metadata": {
            "tags": []
          },
          "execution_count": 4
        },
        {
          "output_type": "display_data",
          "data": {
            "image/png": "[encoded data removed]",
            "text/plain": [
              "<matplotlib.figure.Figure at 0x7f2b6df0cf28>"
            ]
          },
          "metadata": {
            "tags": []
          }
        }
      ]
    }
  ]
}