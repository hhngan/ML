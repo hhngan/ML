{
  "nbformat": 4,
  "nbformat_minor": 0,
  "metadata": {
    "colab": {
      "name": "StockAnalyst.ipynb",
      "version": "0.3.2",
      "provenance": [],
      "include_colab_link": true
    },
    "kernelspec": {
      "name": "python3",
      "display_name": "Python 3"
    }
  },
  "cells": [
    {
      "cell_type": "markdown",
      "metadata": {
        "id": "view-in-github",
        "colab_type": "text"
      },
      "source": [
        "[View in Colaboratory](https://colab.research.google.com/github/hhngan/ML/blob/master/StockAnalyst/StockAnalyst.ipynb)"
      ]
    },
    {
      "metadata": {
        "id": "-DO8EH9zw1vs",
        "colab_type": "code",
        "colab": {}
      },
      "cell_type": "code",
      "source": [
        "#Install libraries\n",
        "\n",
        "!pip install -q botocore\n",
        "!pip install -q certifi\n",
        "!pip install -q colorama\n",
        "!pip install -q cycler\n",
        "!pip install -q docutils\n",
        "!pip install -q jmespath\n",
        "!pip install -q kiwisolver\n",
        "!pip install -q matplotlib\n",
        "!pip install -q numpy\n",
        "!pip install -q pandas\n",
        "!pip install -q pyasn1\n",
        "!pip install -q pyparsing\n",
        "!pip install -q python-dateutil\n",
        "!pip install -q pytz\n",
        "!pip install -q PyYAML\n",
        "!pip install -q rsa\n",
        "!pip install -q s3transfer\n",
        "!pip install -q scikit-learn\n",
        "!pip install -q six"
      ],
      "execution_count": 0,
      "outputs": []
    },
    {
      "metadata": {
        "id": "DobBh1c-hVLK",
        "colab_type": "code",
        "colab": {}
      },
      "cell_type": "code",
      "source": [
        ""
      ],
      "execution_count": 0,
      "outputs": []
    }
  ]
}